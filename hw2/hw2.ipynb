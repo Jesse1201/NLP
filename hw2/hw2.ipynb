{
 "cells": [
  {
   "cell_type": "code",
   "execution_count": 70,
   "id": "a97263e1",
   "metadata": {},
   "outputs": [
    {
     "name": "stdout",
     "output_type": "stream",
     "text": [
      "Requirement already satisfied: bs4 in c:\\python311\\lib\\site-packages (0.0.1)\n",
      "Requirement already satisfied: beautifulsoup4 in c:\\python311\\lib\\site-packages (from bs4) (4.11.2)\n",
      "Requirement already satisfied: soupsieve>1.2 in c:\\python311\\lib\\site-packages (from beautifulsoup4->bs4) (2.4)\n",
      "Note: you may need to restart the kernel to use updated packages.\n"
     ]
    }
   ],
   "source": [
    "pip install bs4"
   ]
  },
  {
   "cell_type": "code",
   "execution_count": 71,
   "id": "383ed767",
   "metadata": {},
   "outputs": [
    {
     "name": "stdout",
     "output_type": "stream",
     "text": [
      "Requirement already satisfied: html5lib in c:\\python311\\lib\\site-packages (1.1)\n",
      "Requirement already satisfied: six>=1.9 in c:\\python311\\lib\\site-packages (from html5lib) (1.16.0)\n",
      "Requirement already satisfied: webencodings in c:\\python311\\lib\\site-packages (from html5lib) (0.5.1)\n",
      "Note: you may need to restart the kernel to use updated packages.\n"
     ]
    }
   ],
   "source": [
    "pip install html5lib"
   ]
  },
  {
   "cell_type": "code",
   "execution_count": 72,
   "id": "0a3ff0bb",
   "metadata": {},
   "outputs": [
    {
     "name": "stdout",
     "output_type": "stream",
     "text": [
      "Requirement already satisfied: lxml in c:\\python311\\lib\\site-packages (4.9.2)\n",
      "Note: you may need to restart the kernel to use updated packages.\n"
     ]
    }
   ],
   "source": [
    "pip install lxml"
   ]
  },
  {
   "cell_type": "code",
   "execution_count": 73,
   "id": "a00dd3d2",
   "metadata": {},
   "outputs": [],
   "source": [
    "import requests\n",
    "import re\n",
    "import json\n",
    "from bs4 import BeautifulSoup"
   ]
  },
  {
   "cell_type": "code",
   "execution_count": null,
   "id": "e821bf2d",
   "metadata": {},
   "outputs": [],
   "source": [
    "movies = []\n",
    "n = 0\n",
    "\n",
    "for page in range(1, 15068):\n",
    "    response = requests.get(\"https://movies.yahoo.com.tw/movieinfo_main/\"+str(page))\n",
    "    soup = BeautifulSoup(response.text, 'html.parser')\n",
    "    doc_id = page    \n",
    "\n",
    "    try:\n",
    "        info_items = soup.find('div', 'movie_intro_info_r')\n",
    "        cname = info_items.find('h1').text\n",
    "        ename = info_items.find('h3').text\n",
    "        release_date = info_items.find('span', class_=None).text[5:]\n",
    "                \n",
    "        info_items = soup.find('div', 'level_name_box').find_all('div', 'level_name')\n",
    "        labels = []\n",
    "        for label in info_items:\n",
    "            labels.append(label.text.strip())\n",
    "                \n",
    "        info_items = soup.find('div', 'gray_infobox_inner')\n",
    "        intro = str(info_items.select_one('span').text).strip().replace('\\n', '').replace('\\r', '').replace(' ', ' ')\n",
    "    except:\n",
    "        continue\n",
    "               \n",
    "    movies.append([doc_id, cname, ename, labels, intro, release_date])\n",
    "    n += 1\n",
    "\n",
    "with open('hw2.json', 'w', encoding='utf-8') as f:\n",
    "    json.dump(movies, f, indent=4)\n",
    "# print(n)    \n",
    "# print(*movies, sep=\"\\n\")"
   ]
  },
  {
   "cell_type": "code",
   "execution_count": null,
   "id": "3d9d5bfe",
   "metadata": {},
   "outputs": [],
   "source": []
  },
  {
   "cell_type": "code",
   "execution_count": null,
   "id": "a58761c2",
   "metadata": {},
   "outputs": [],
   "source": []
  }
 ],
 "metadata": {
  "kernelspec": {
   "display_name": "Python 3 (ipykernel)",
   "language": "python",
   "name": "python3"
  },
  "language_info": {
   "codemirror_mode": {
    "name": "ipython",
    "version": 3
   },
   "file_extension": ".py",
   "mimetype": "text/x-python",
   "name": "python",
   "nbconvert_exporter": "python",
   "pygments_lexer": "ipython3",
   "version": "3.11.0"
  }
 },
 "nbformat": 4,
 "nbformat_minor": 5
}
